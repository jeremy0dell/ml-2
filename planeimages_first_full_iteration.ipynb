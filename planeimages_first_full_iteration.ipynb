{
 "cells": [
  {
   "cell_type": "code",
   "execution_count": 1,
   "metadata": {},
   "outputs": [],
   "source": [
    "import numpy as np\n",
    "import pandas as pd\n",
    "import matplotlib.pyplot as plt\n",
    "import pickle\n",
    "import warnings\n",
    "warnings.filterwarnings(\"ignore\", message=\"numpy.ufunc size changed\")\n",
    "from skimage import io, color, transform, feature\n",
    "from my_measures import BinaryClassificationPerformance  \n",
    "from sklearn.model_selection import train_test_split\n",
    "from skimage.feature import hog\n",
    "from skimage import data, exposure\n",
    "%matplotlib inline"
   ]
  },
  {
   "cell_type": "markdown",
   "metadata": {},
   "source": [
    "### IMPORTANT!!! Make sure you are using BinaryClassificationPerformance v1.03\n"
   ]
  },
  {
   "cell_type": "code",
   "execution_count": 2,
   "metadata": {},
   "outputs": [
    {
     "name": "stdout",
     "output_type": "stream",
     "text": [
      "Help on class BinaryClassificationPerformance in module my_measures:\n",
      "\n",
      "class BinaryClassificationPerformance(builtins.object)\n",
      " |  BinaryClassificationPerformance(predictions, labels, desc, probabilities=None)\n",
      " |  \n",
      " |  Performance measures to evaluate the fit of a binary classification model, v1.03\n",
      " |  \n",
      " |  Methods defined here:\n",
      " |  \n",
      " |  __init__(self, predictions, labels, desc, probabilities=None)\n",
      " |      Initialize attributes: predictions-vector of predicted values for Y, labels-vector of labels for Y\n",
      " |  \n",
      " |  compute_measures(self)\n",
      " |      Compute performance measures defined by Flach p. 57\n",
      " |  \n",
      " |  img_indices(self)\n",
      " |      Get the indices of true and false positives to be able to locate the corresponding images in a list of image names\n",
      " |  \n",
      " |  ----------------------------------------------------------------------\n",
      " |  Data descriptors defined here:\n",
      " |  \n",
      " |  __dict__\n",
      " |      dictionary for instance variables (if defined)\n",
      " |  \n",
      " |  __weakref__\n",
      " |      list of weak references to the object (if defined)\n",
      "\n"
     ]
    }
   ],
   "source": [
    "help(BinaryClassificationPerformance)"
   ]
  },
  {
   "cell_type": "markdown",
   "metadata": {},
   "source": [
    "### file paths and names"
   ]
  },
  {
   "cell_type": "code",
   "execution_count": 3,
   "metadata": {},
   "outputs": [],
   "source": [
    "ci_path = 'plane_data/cropped_images/' # file path for cropped images for training\n",
    "l_file = 'plane_data/plane_labels.csv' # file path and file name for csv with labels"
   ]
  },
  {
   "cell_type": "markdown",
   "metadata": {},
   "source": [
    "# Function for feature building and extraction on photographs¶\n",
    "\n",
    "scikit-image documentation on methods used for feature extraction:  \n",
    "\n",
    "* http://scikit-image.org/docs/dev/api/skimage.color.html#rgb2gray  \n",
    "* http://scikit-image.org/docs/dev/api/skimage.transform.html#skimage.transform.resize  \n",
    "* http://scikit-image.org/docs/stable/api/skimage.feature.html#skimage.feature.canny"
   ]
  },
  {
   "cell_type": "code",
   "execution_count": 4,
   "metadata": {},
   "outputs": [],
   "source": [
    "# in downscaling the image, what do you want the new dimensions to be?\n",
    "# the original dimensions of cropped images: (60, 140), which if 8,400 pixels\n",
    "dims = (15, 35) # 25% of the original size, 525 pixels"
   ]
  },
  {
   "cell_type": "code",
   "execution_count": 5,
   "metadata": {},
   "outputs": [
    {
     "name": "stdout",
     "output_type": "stream",
     "text": [
      "downscaled image shape: \n",
      "(15, 35)\n",
      "image representation (first row of pixels): \n",
      "[False False False False False False False False False False False False\n",
      " False False False False False False False False False False False False\n",
      " False False False False False False False False False False False]\n",
      "\n",
      "\n",
      "example of transformation: \n"
     ]
    },
    {
     "data": {
      "image/png": "[encoded data removed]",
      "text/plain": [
       "<Figure size 432x288 with 1 Axes>"
      ]
     },
     "metadata": {
      "needs_background": "light"
     },
     "output_type": "display_data"
    }
   ],
   "source": [
    "def image_manipulation(imname, imgs_path, imview=False):\n",
    "    warnings.filterwarnings('ignore')\n",
    "    imname = imgs_path + imname + '.png'\n",
    "    img_raw = io.imread(imname, as_gray=True)\n",
    "    downscaled = transform.resize(img_raw, (dims[0], dims[1])) # downscale image\n",
    "    final_image = feature.canny(downscaled) # edge filter image with Canny algorithm\n",
    "    if imview==True:\n",
    "        io.imshow(final_image)\n",
    "    warnings.filterwarnings('always')\n",
    "    return final_image\n",
    "\n",
    "# test the function, look at input/output\n",
    "test_image = image_manipulation('2017-08-25T23+24+13_390Z', ci_path, True)\n",
    "print('downscaled image shape: ')\n",
    "print(test_image.shape)\n",
    "print('image representation (first row of pixels): ')\n",
    "print(test_image[0])\n",
    "print('\\n')\n",
    "print('example of transformation: ')"
   ]
  },
  {
   "cell_type": "markdown",
   "metadata": {},
   "source": [
    "for comparison, look at original image:"
   ]
  },
  {
   "cell_type": "code",
   "execution_count": 6,
   "metadata": {},
   "outputs": [
    {
     "data": {
      "text/plain": [
       "<matplotlib.image.AxesImage at 0x7f8923038a90>"
      ]
     },
     "execution_count": 6,
     "metadata": {},
     "output_type": "execute_result"
    },
    {
     "data": {
      "image/png": "[encoded data removed]",
      "text/plain": [
       "<Figure size 432x288 with 1 Axes>"
      ]
     },
     "metadata": {
      "needs_background": "light"
     },
     "output_type": "display_data"
    }
   ],
   "source": [
    "this_imname = ci_path + '2017-08-25T23+24+13_390Z.png'\n",
    "io.imshow(io.imread(this_imname))"
   ]
  },
  {
   "cell_type": "markdown",
   "metadata": {},
   "source": [
    "# function to process raw images, resulting in training and test datasets"
   ]
  },
  {
   "cell_type": "code",
   "execution_count": 7,
   "metadata": {},
   "outputs": [],
   "source": [
    "# function that takes raw images and completes all preprocessing required before model fits\n",
    "def process_raw_data(labels_fn, images_fp, my_random_seed, imview=False, test=False):\n",
    "    plane_data = pd.read_csv(labels_fn) # read in photograph labels\n",
    "    print(\"First few lines of image labels: \")\n",
    "    print(plane_data.head())\n",
    "    print(\"Size of image label dataFrame: \")\n",
    "    print(plane_data.shape)\n",
    "        \n",
    "    # construct lists for features, labels, and a crosswalk reference to image names\n",
    "    features_list = []\n",
    "    if (not test):\n",
    "        y_list = []\n",
    "    imnames_list = []\n",
    "\n",
    "    for index, row in plane_data.iterrows():\n",
    "        features_list.append(image_manipulation(row['img_name'], images_fp))\n",
    "        if (not test):\n",
    "            y_list.append(row['plane'])\n",
    "        imnames_list.append(row['img_name'])\n",
    "    \n",
    "    # convert the lists to ndarrays\n",
    "    features = np.asarray(features_list)\n",
    "    if (not test):\n",
    "        Y = np.asarray(y_list)\n",
    "    imgs = np.asarray(imnames_list)\n",
    "    print('Shape of original feature representation: ')\n",
    "    print(features.shape)\n",
    "\n",
    "    # flatten the images ndarray to one row per image\n",
    "    features_flat = features.reshape((features.shape[0], -1))\n",
    "\n",
    "    print('Shape of flat feature representation: ')\n",
    "    print(features_flat.shape)\n",
    "\n",
    "    if (not test):\n",
    "        print('Shape of Y: ')\n",
    "        print(Y.shape)\n",
    "\n",
    "        print('Number of images with planes: ')\n",
    "        print(Y.sum())\n",
    "    \n",
    "        # create train and test sets\n",
    "        data_train, data_test, y_train, y_test, imgs_train, imgs_test = train_test_split(features_flat, \n",
    "            Y, imgs, test_size = 0.25, random_state = my_random_seed)\n",
    "\n",
    "        print('Shape of training set: ')\n",
    "        print(y_train.shape)\n",
    "        print('Number of training images that contain an airplane: ')\n",
    "        print(y_train.sum())\n",
    "\n",
    "        print('Shape of test set: ')\n",
    "        print(y_test.shape)\n",
    "        print('Number of test images that contain an airplane: ')\n",
    "        print(y_test.sum())\n",
    "    \n",
    "    if (test):\n",
    "        X_submission_test = features_flat\n",
    "        print(\"Shape of X_test for submission:\")\n",
    "        print(X_submission_test.shape)\n",
    "        print('SUCCESS!')\n",
    "        return(X_submission_test, plane_data)\n",
    "    else: \n",
    "        print(\"Shape of data_train and data_test:\")\n",
    "        print(data_train.shape)\n",
    "        print(data_test.shape)\n",
    "        print(\"Shape of y_train and y_test:\")\n",
    "        print(y_train.shape)\n",
    "        print(y_test.shape)\n",
    "        print(\"Shape of imgs_train and imgs_test:\")\n",
    "        print(imgs_train.shape)\n",
    "        print(imgs_test.shape)\n",
    "        print('SUCCESS!')\n",
    "        return(data_train, data_test, y_train, y_test, imgs_train, imgs_test)\n"
   ]
  },
  {
   "cell_type": "code",
   "execution_count": 8,
   "metadata": {},
   "outputs": [
    {
     "name": "stdout",
     "output_type": "stream",
     "text": [
      "First few lines of image labels: \n",
      "                   img_name  plane\n",
      "0  2016-08-02T13+50+24_430Z  False\n",
      "1  2016-08-02T14+12+37_390Z  False\n",
      "2  2016-08-02T22+20+26_600Z  False\n",
      "3  2016-08-03T12+04+30_670Z  False\n",
      "4  2016-08-03T12+32+21_790Z  False\n",
      "Size of image label dataFrame: \n",
      "(6758, 2)\n",
      "Shape of original feature representation: \n",
      "(6758, 15, 35)\n",
      "Shape of flat feature representation: \n",
      "(6758, 525)\n",
      "Shape of Y: \n",
      "(6758,)\n",
      "Number of images with planes: \n",
      "101\n",
      "Shape of training set: \n",
      "(5068,)\n",
      "Number of training images that contain an airplane: \n",
      "78\n",
      "Shape of test set: \n",
      "(1690,)\n",
      "Number of test images that contain an airplane: \n",
      "23\n",
      "Shape of data_train and data_test:\n",
      "(5068, 525)\n",
      "(1690, 525)\n",
      "Shape of y_train and y_test:\n",
      "(5068,)\n",
      "(1690,)\n",
      "Shape of imgs_train and imgs_test:\n",
      "(5068,)\n",
      "(1690,)\n",
      "SUCCESS!\n"
     ]
    }
   ],
   "source": [
    "data_train, data_test, y_train, y_test, imgs_train, imgs_test = process_raw_data(l_file, ci_path, \n",
    "    my_random_seed=666, imview=False, test=False)"
   ]
  },
  {
   "cell_type": "markdown",
   "metadata": {},
   "source": [
    "# train Perceptron"
   ]
  },
  {
   "cell_type": "code",
   "execution_count": 9,
   "metadata": {},
   "outputs": [],
   "source": [
    "# # MODEL: Perceptron\n",
    "# from sklearn import linear_model\n",
    "# prc = linear_model.SGDClassifier(loss='perceptron')\n",
    "# prc.fit(data_train, y_train)\n",
    "\n",
    "# prc_performance = BinaryClassificationPerformance(prc.predict(data_train), y_train, 'prc')\n",
    "# prc_performance.compute_measures()\n",
    "# prc_performance.performance_measures['set'] = 'train'\n",
    "# print('TRAINING SET: ')\n",
    "# print(prc_performance.performance_measures)\n",
    "\n",
    "# prc_performance_test = BinaryClassificationPerformance(prc.predict(data_test), y_test, 'prc')\n",
    "# prc_performance_test.compute_measures()\n",
    "# prc_performance_test.performance_measures['set'] = 'test'\n",
    "# print('TEST SET: ')\n",
    "# print(prc_performance_test.performance_measures)\n",
    "\n",
    "# prc_performance_test.img_indices()\n",
    "# prc_img_indices_to_view = prc_performance_test.image_indices"
   ]
  },
  {
   "cell_type": "code",
   "execution_count": 10,
   "metadata": {},
   "outputs": [],
   "source": [
    "# def performance_examples(typ, measures):\n",
    "#     iiv = ''\n",
    "#     if typ == 'FP':\n",
    "#         iiv = typ + '_indices'\n",
    "#     elif typ == 'TP':\n",
    "#         iiv = typ + '_indices'\n",
    "#     elif typ == 'FN':\n",
    "#         iiv = typ + '_indices'\n",
    "#     else:\n",
    "#         raise ValueError('input must be \"TP\", \"FP\", or \"FN\"')\n",
    "#     for img in measures[iiv]:\n",
    "#         warnings.filterwarnings('ignore')    \n",
    "#         plt.figure()\n",
    "#         lookat = ci_path + imgs_test[img] + '.png' # location of original image\n",
    "#         io.imshow(lookat) # show original image\n",
    "#         plt.figure()\n",
    "#         io.imshow(data_test[img].reshape(dims[0], dims[1])) # show manipulation for feature representation\n",
    "#         warnings.filterwarnings('always')\n"
   ]
  },
  {
   "cell_type": "markdown",
   "metadata": {},
   "source": [
    "# look at examples of Perceptron classifications"
   ]
  },
  {
   "cell_type": "markdown",
   "metadata": {},
   "source": [
    "## true positives"
   ]
  },
  {
   "cell_type": "code",
   "execution_count": 11,
   "metadata": {},
   "outputs": [],
   "source": [
    "# performance_examples('TP', prc_img_indices_to_view)"
   ]
  },
  {
   "cell_type": "markdown",
   "metadata": {},
   "source": [
    "## false positives"
   ]
  },
  {
   "cell_type": "code",
   "execution_count": 12,
   "metadata": {},
   "outputs": [],
   "source": [
    "# performance_examples('FP', prc_img_indices_to_view)"
   ]
  },
  {
   "cell_type": "markdown",
   "metadata": {},
   "source": [
    "## false negatives"
   ]
  },
  {
   "cell_type": "code",
   "execution_count": 13,
   "metadata": {},
   "outputs": [],
   "source": [
    "# performance_examples('FN', prc_img_indices_to_view)"
   ]
  },
  {
   "cell_type": "markdown",
   "metadata": {},
   "source": [
    "# train Multilayer Perceptron, a.k.a. neural network"
   ]
  },
  {
   "cell_type": "code",
   "execution_count": 26,
   "metadata": {},
   "outputs": [
    {
     "name": "stdout",
     "output_type": "stream",
     "text": [
      "MLPClassifier(max_iter=1000)\n",
      "TRAINING SET: \n",
      "{'Pos': 78, 'Neg': 4990, 'TP': 78, 'TN': 4990, 'FP': 0, 'FN': 0, 'Accuracy': 1.0, 'Precision': 1.0, 'Recall': 1.0, 'desc': 'nn(100,)', 'set': 'train'}\n",
      "TEST SET: \n",
      "{'Pos': 23, 'Neg': 1667, 'TP': 12, 'TN': 1666, 'FP': 1, 'FN': 11, 'Accuracy': 0.9928994082840237, 'Precision': 0.9230769230769231, 'Recall': 0.5217391304347826, 'desc': 'nn_test(100,)', 'set': 'test'}\n",
      "MLPClassifier(hidden_layer_sizes=(10, 10), max_iter=1000)\n",
      "TRAINING SET: \n",
      "{'Pos': 78, 'Neg': 4990, 'TP': 78, 'TN': 4990, 'FP': 0, 'FN': 0, 'Accuracy': 1.0, 'Precision': 1.0, 'Recall': 1.0, 'desc': 'nn(10, 10)', 'set': 'train'}\n",
      "TEST SET: \n",
      "{'Pos': 23, 'Neg': 1667, 'TP': 12, 'TN': 1665, 'FP': 2, 'FN': 11, 'Accuracy': 0.9923076923076923, 'Precision': 0.8571428571428571, 'Recall': 0.5217391304347826, 'desc': 'nn_test(10, 10)', 'set': 'test'}\n",
      "MLPClassifier(hidden_layer_sizes=(1, 1, 1, 1), max_iter=1000)\n"
     ]
    },
    {
     "name": "stderr",
     "output_type": "stream",
     "text": [
      "/Users/jeremyodell/Desktop/ML/ml2/final_assignment_2/my_measures.py:26: RuntimeWarning: invalid value encountered in long_scalars\n",
      "  self.performance_measures['Precision'] = self.performance_measures['TP'] / (self.performance_measures['TP'] + self.performance_measures['FP'])\n",
      "/Users/jeremyodell/Desktop/ML/ml2/final_assignment_2/my_measures.py:26: RuntimeWarning: invalid value encountered in long_scalars\n",
      "  self.performance_measures['Precision'] = self.performance_measures['TP'] / (self.performance_measures['TP'] + self.performance_measures['FP'])\n"
     ]
    },
    {
     "name": "stdout",
     "output_type": "stream",
     "text": [
      "TRAINING SET: \n",
      "{'Pos': 78, 'Neg': 4990, 'TP': 0, 'TN': 4990, 'FP': 0, 'FN': 78, 'Accuracy': 0.9846093133385951, 'Precision': nan, 'Recall': 0.0, 'desc': 'nn(1, 1, 1, 1)', 'set': 'train'}\n",
      "TEST SET: \n",
      "{'Pos': 23, 'Neg': 1667, 'TP': 0, 'TN': 1667, 'FP': 0, 'FN': 23, 'Accuracy': 0.9863905325443787, 'Precision': nan, 'Recall': 0.0, 'desc': 'nn_test(1, 1, 1, 1)', 'set': 'test'}\n",
      "MLPClassifier(hidden_layer_sizes=(10, 100), max_iter=1000)\n",
      "TRAINING SET: \n",
      "{'Pos': 78, 'Neg': 4990, 'TP': 78, 'TN': 4990, 'FP': 0, 'FN': 0, 'Accuracy': 1.0, 'Precision': 1.0, 'Recall': 1.0, 'desc': 'nn(10, 100)', 'set': 'train'}\n",
      "TEST SET: \n",
      "{'Pos': 23, 'Neg': 1667, 'TP': 7, 'TN': 1665, 'FP': 2, 'FN': 16, 'Accuracy': 0.9893491124260355, 'Precision': 0.7777777777777778, 'Recall': 0.30434782608695654, 'desc': 'nn_test(10, 100)', 'set': 'test'}\n",
      "MLPClassifier(hidden_layer_sizes=(100, 1000), max_iter=1000)\n",
      "TRAINING SET: \n",
      "{'Pos': 78, 'Neg': 4990, 'TP': 78, 'TN': 4990, 'FP': 0, 'FN': 0, 'Accuracy': 1.0, 'Precision': 1.0, 'Recall': 1.0, 'desc': 'nn(100, 1000)', 'set': 'train'}\n",
      "TEST SET: \n",
      "{'Pos': 23, 'Neg': 1667, 'TP': 11, 'TN': 1667, 'FP': 0, 'FN': 12, 'Accuracy': 0.9928994082840237, 'Precision': 1.0, 'Recall': 0.4782608695652174, 'desc': 'nn_test(100, 1000)', 'set': 'test'}\n"
     ]
    }
   ],
   "source": [
    "# MODEL: Multi-layer Perceptron aka neural network\n",
    "from sklearn import neural_network\n",
    "\n",
    "def convertTuple(tup):\n",
    "    string = ''.join(str(tup))\n",
    "    return string\n",
    "\n",
    "t = [(100,), (10,10), (1,1,1,1), (10, 100), (100, 1000)]\n",
    "training = []\n",
    "test = []\n",
    "\n",
    "for tuple in t:\n",
    "    nn = neural_network.MLPClassifier(max_iter=1000, hidden_layer_sizes=tuple)\n",
    "    print(nn)\n",
    "    nn.fit(data_train, y_train)\n",
    "\n",
    "    nn_performance = BinaryClassificationPerformance(nn.predict(data_train), y_train, 'nn' + convertTuple(tuple))\n",
    "    nn_performance.compute_measures()\n",
    "    nn_performance.performance_measures['set'] = 'train'\n",
    "    print('TRAINING SET: ')\n",
    "    print(nn_performance.performance_measures)\n",
    "    training.append(nn_performance.performance_measures)\n",
    "\n",
    "    nn_performance_test = BinaryClassificationPerformance(nn.predict(data_test), y_test, 'nn_test' + convertTuple(tuple))\n",
    "    nn_performance_test.compute_measures()\n",
    "    nn_performance_test.performance_measures['set'] = 'test'\n",
    "    print('TEST SET: ')\n",
    "    print(nn_performance_test.performance_measures)\n",
    "    test.append(nn_performance_test.performance_measures)\n",
    "\n",
    "    nn_performance_test.img_indices()\n",
    "    nn_img_indices_to_view = nn_performance_test.image_indices"
   ]
  },
  {
   "cell_type": "markdown",
   "metadata": {},
   "source": [
    "# look at examples of neural network classifications"
   ]
  },
  {
   "cell_type": "markdown",
   "metadata": {},
   "source": [
    "## true positives"
   ]
  },
  {
   "cell_type": "code",
   "execution_count": 27,
   "metadata": {},
   "outputs": [],
   "source": [
    "# performance_examples('TP', nn_img_indices_to_view)"
   ]
  },
  {
   "cell_type": "markdown",
   "metadata": {},
   "source": [
    "## false positives"
   ]
  },
  {
   "cell_type": "code",
   "execution_count": 28,
   "metadata": {},
   "outputs": [],
   "source": [
    "# performance_examples('FP', nn_img_indices_to_view)"
   ]
  },
  {
   "cell_type": "markdown",
   "metadata": {},
   "source": [
    "## false negatives"
   ]
  },
  {
   "cell_type": "code",
   "execution_count": 29,
   "metadata": {},
   "outputs": [],
   "source": [
    "# performance_examples('FN', nn_img_indices_to_view)"
   ]
  },
  {
   "cell_type": "markdown",
   "metadata": {},
   "source": [
    "# comparisons"
   ]
  },
  {
   "cell_type": "code",
   "execution_count": 30,
   "metadata": {},
   "outputs": [
    {
     "name": "stdout",
     "output_type": "stream",
     "text": [
      "[{'Pos': 78, 'Neg': 4990, 'TP': 78, 'TN': 4990, 'FP': 0, 'FN': 0, 'Accuracy': 1.0, 'Precision': 1.0, 'Recall': 1.0, 'desc': 'nn(100,)', 'set': 'train'}, {'Pos': 78, 'Neg': 4990, 'TP': 78, 'TN': 4990, 'FP': 0, 'FN': 0, 'Accuracy': 1.0, 'Precision': 1.0, 'Recall': 1.0, 'desc': 'nn(10, 10)', 'set': 'train'}, {'Pos': 78, 'Neg': 4990, 'TP': 0, 'TN': 4990, 'FP': 0, 'FN': 78, 'Accuracy': 0.9846093133385951, 'Precision': nan, 'Recall': 0.0, 'desc': 'nn(1, 1, 1, 1)', 'set': 'train'}, {'Pos': 78, 'Neg': 4990, 'TP': 78, 'TN': 4990, 'FP': 0, 'FN': 0, 'Accuracy': 1.0, 'Precision': 1.0, 'Recall': 1.0, 'desc': 'nn(10, 100)', 'set': 'train'}, {'Pos': 78, 'Neg': 4990, 'TP': 78, 'TN': 4990, 'FP': 0, 'FN': 0, 'Accuracy': 1.0, 'Precision': 1.0, 'Recall': 1.0, 'desc': 'nn(100, 1000)', 'set': 'train'}, {'Pos': 23, 'Neg': 1667, 'TP': 12, 'TN': 1666, 'FP': 1, 'FN': 11, 'Accuracy': 0.9928994082840237, 'Precision': 0.9230769230769231, 'Recall': 0.5217391304347826, 'desc': 'nn_test(100,)', 'set': 'test'}, {'Pos': 23, 'Neg': 1667, 'TP': 12, 'TN': 1665, 'FP': 2, 'FN': 11, 'Accuracy': 0.9923076923076923, 'Precision': 0.8571428571428571, 'Recall': 0.5217391304347826, 'desc': 'nn_test(10, 10)', 'set': 'test'}, {'Pos': 23, 'Neg': 1667, 'TP': 0, 'TN': 1667, 'FP': 0, 'FN': 23, 'Accuracy': 0.9863905325443787, 'Precision': nan, 'Recall': 0.0, 'desc': 'nn_test(1, 1, 1, 1)', 'set': 'test'}, {'Pos': 23, 'Neg': 1667, 'TP': 7, 'TN': 1665, 'FP': 2, 'FN': 16, 'Accuracy': 0.9893491124260355, 'Precision': 0.7777777777777778, 'Recall': 0.30434782608695654, 'desc': 'nn_test(10, 100)', 'set': 'test'}, {'Pos': 23, 'Neg': 1667, 'TP': 11, 'TN': 1667, 'FP': 0, 'FN': 12, 'Accuracy': 0.9928994082840237, 'Precision': 1.0, 'Recall': 0.4782608695652174, 'desc': 'nn_test(100, 1000)', 'set': 'test'}] [{'Pos': 23, 'Neg': 1667, 'TP': 12, 'TN': 1666, 'FP': 1, 'FN': 11, 'Accuracy': 0.9928994082840237, 'Precision': 0.9230769230769231, 'Recall': 0.5217391304347826, 'desc': 'nn_test(100,)', 'set': 'test'}, {'Pos': 23, 'Neg': 1667, 'TP': 12, 'TN': 1665, 'FP': 2, 'FN': 11, 'Accuracy': 0.9923076923076923, 'Precision': 0.8571428571428571, 'Recall': 0.5217391304347826, 'desc': 'nn_test(10, 10)', 'set': 'test'}, {'Pos': 23, 'Neg': 1667, 'TP': 0, 'TN': 1667, 'FP': 0, 'FN': 23, 'Accuracy': 0.9863905325443787, 'Precision': nan, 'Recall': 0.0, 'desc': 'nn_test(1, 1, 1, 1)', 'set': 'test'}, {'Pos': 23, 'Neg': 1667, 'TP': 7, 'TN': 1665, 'FP': 2, 'FN': 16, 'Accuracy': 0.9893491124260355, 'Precision': 0.7777777777777778, 'Recall': 0.30434782608695654, 'desc': 'nn_test(10, 100)', 'set': 'test'}, {'Pos': 23, 'Neg': 1667, 'TP': 11, 'TN': 1667, 'FP': 0, 'FN': 12, 'Accuracy': 0.9928994082840237, 'Precision': 1.0, 'Recall': 0.4782608695652174, 'desc': 'nn_test(100, 1000)', 'set': 'test'}]\n"
     ]
    }
   ],
   "source": [
    "# list of fits to compare: \n",
    "final_fits = []\n",
    "\n",
    "for t in training:\n",
    "    final_fits.append(t)\n",
    "    \n",
    "for t in test:\n",
    "    final_fits.append(t)\n",
    "    \n",
    "print(final_fits, test)\n",
    "# final_fits.append(prc_performance.performance_measures)\n",
    "# final_fits.append(prc_performance_test.performance_measures)\n",
    "# final_fits.append(nn_performance.performance_measures)\n",
    "# final_fits.append(nn_performance_test.performance_measures)"
   ]
  },
  {
   "cell_type": "code",
   "execution_count": 32,
   "metadata": {
    "scrolled": true
   },
   "outputs": [
    {
     "data": {
      "image/png": "[encoded data removed]",
      "text/plain": [
       "<Figure size 720x720 with 1 Axes>"
      ]
     },
     "metadata": {
      "needs_background": "light"
     },
     "output_type": "display_data"
    }
   ],
   "source": [
    "plt.figure(figsize=(10,10))\n",
    "\n",
    "for fit in final_fits:\n",
    "    if fit['set'] == 'train':\n",
    "        color = 'co'\n",
    "    else:\n",
    "        color = 'ro'\n",
    "    plt.plot(fit['FP'] / fit['Neg'], \n",
    "             fit['TP'] / fit['Pos'], color, markersize=12)\n",
    "    plt.text(fit['FP'] / fit['Neg'], \n",
    "             fit['TP'] / fit['Pos'], fit['desc'] + ': ' + fit['set'], fontsize=16)\n",
    "plt.axis([0, 0.01, 0, 1])\n",
    "plt.title('ROC plot: test set')\n",
    "plt.xlabel('False positive rate')\n",
    "plt.ylabel('True positive rate')\n",
    "plt.show()\n"
   ]
  },
  {
   "cell_type": "markdown",
   "metadata": {},
   "source": [
    "# SUBMISSION\n",
    "\n",
    "### file paths and names:"
   ]
  },
  {
   "cell_type": "code",
   "execution_count": 20,
   "metadata": {},
   "outputs": [],
   "source": [
    "submission_ci_path = 'test_data_for_grading/test_cropped_images/' # file path for cropped images for training\n",
    "submission_l_file = 'test_data_for_grading/test_plane_labels.csv' # file path and file name for csv with labels"
   ]
  },
  {
   "cell_type": "code",
   "execution_count": 21,
   "metadata": {},
   "outputs": [
    {
     "name": "stdout",
     "output_type": "stream",
     "text": [
      "First few lines of image labels: \n",
      "                   img_name\n",
      "0  2016-08-02T13+50+24_430Z\n",
      "1  2016-08-02T14+12+37_390Z\n",
      "2  2016-08-03T12+32+21_790Z\n",
      "3  2016-08-03T13+19+28_320Z\n",
      "4  2016-08-05T15+24+58_670Z\n",
      "Size of image label dataFrame: \n",
      "(1523, 1)\n",
      "Shape of original feature representation: \n",
      "(1523, 15, 35)\n",
      "Shape of flat feature representation: \n",
      "(1523, 525)\n",
      "Shape of X_test for submission:\n",
      "(1523, 525)\n",
      "SUCCESS!\n",
      "Number of rows in the submission test set (should be 1,523): \n"
     ]
    }
   ],
   "source": [
    "X_test_data, X_test_submission = process_raw_data(submission_l_file, submission_ci_path, my_random_seed=666, test=True)\n",
    "print(\"Number of rows in the submission test set (should be 1,523): \")"
   ]
  },
  {
   "cell_type": "markdown",
   "metadata": {},
   "source": [
    "### IMPORTANT CHECK: make sure that the number of columns in your training data is the same as the number of columns in this test submission!"
   ]
  },
  {
   "cell_type": "code",
   "execution_count": 22,
   "metadata": {},
   "outputs": [
    {
     "name": "stdout",
     "output_type": "stream",
     "text": [
      "(5068, 525)\n",
      "(1523, 525)\n"
     ]
    }
   ],
   "source": [
    "print(data_train.shape)\n",
    "print(X_test_data.shape)"
   ]
  },
  {
   "cell_type": "markdown",
   "metadata": {},
   "source": [
    "Both the training set and submission test set have 525 columns. Success!"
   ]
  },
  {
   "cell_type": "markdown",
   "metadata": {},
   "source": [
    "---\n",
    "\n",
    "Choose a *single* model for your submission. In this code, I am choosing the Perceptron model fit, which is in the prc object. But you should choose the model that is performing the best for you!"
   ]
  },
  {
   "cell_type": "code",
   "execution_count": 23,
   "metadata": {},
   "outputs": [
    {
     "ename": "NameError",
     "evalue": "name 'prc' is not defined",
     "output_type": "error",
     "traceback": [
      "\u001b[0;31m---------------------------------------------------------------------------\u001b[0m",
      "\u001b[0;31mNameError\u001b[0m                                 Traceback (most recent call last)",
      "\u001b[0;32m/var/folders/0r/shy51f0d70d_cv4pfg_c4shw0000gn/T/ipykernel_43325/108391051.py\u001b[0m in \u001b[0;36m<module>\u001b[0;34m\u001b[0m\n\u001b[1;32m      1\u001b[0m \u001b[0;31m# concatenate predictions to the id\u001b[0m\u001b[0;34m\u001b[0m\u001b[0;34m\u001b[0m\u001b[0m\n\u001b[0;32m----> 2\u001b[0;31m \u001b[0mX_test_submission\u001b[0m\u001b[0;34m[\u001b[0m\u001b[0;34m\"prediction\"\u001b[0m\u001b[0;34m]\u001b[0m \u001b[0;34m=\u001b[0m \u001b[0mprc\u001b[0m\u001b[0;34m.\u001b[0m\u001b[0mpredict\u001b[0m\u001b[0;34m(\u001b[0m\u001b[0mX_test_data\u001b[0m\u001b[0;34m)\u001b[0m\u001b[0;34m\u001b[0m\u001b[0;34m\u001b[0m\u001b[0m\n\u001b[0m\u001b[1;32m      3\u001b[0m \u001b[0;31m# look at the proportion of positive predictions\u001b[0m\u001b[0;34m\u001b[0m\u001b[0;34m\u001b[0m\u001b[0m\n\u001b[1;32m      4\u001b[0m \u001b[0mprint\u001b[0m\u001b[0;34m(\u001b[0m\u001b[0mX_test_submission\u001b[0m\u001b[0;34m[\u001b[0m\u001b[0;34m'prediction'\u001b[0m\u001b[0;34m]\u001b[0m\u001b[0;34m.\u001b[0m\u001b[0mmean\u001b[0m\u001b[0;34m(\u001b[0m\u001b[0;34m)\u001b[0m\u001b[0;34m)\u001b[0m\u001b[0;34m\u001b[0m\u001b[0;34m\u001b[0m\u001b[0m\n",
      "\u001b[0;31mNameError\u001b[0m: name 'prc' is not defined"
     ]
    }
   ],
   "source": [
    "# concatenate predictions to the id\n",
    "X_test_submission[\"prediction\"] = prc.predict(X_test_data)\n",
    "# look at the proportion of positive predictions\n",
    "print(X_test_submission['prediction'].mean())"
   ]
  },
  {
   "cell_type": "markdown",
   "metadata": {},
   "source": [
    "This is the proportion of predictions that have predicted that there is an airplane in the image."
   ]
  },
  {
   "cell_type": "code",
   "execution_count": null,
   "metadata": {},
   "outputs": [],
   "source": [
    "print(X_test_submission.shape) # should be (1523, 2)"
   ]
  },
  {
   "cell_type": "code",
   "execution_count": null,
   "metadata": {},
   "outputs": [],
   "source": [
    "# export submission file as pdf\n",
    "# CHANGE FILE PATH: \n",
    "X_test_submission.to_csv('airplane_submission.csv', index=False)"
   ]
  }
 ],
 "metadata": {
  "kernelspec": {
   "display_name": "Python 3 (ipykernel)",
   "language": "python",
   "name": "python3"
  },
  "language_info": {
   "codemirror_mode": {
    "name": "ipython",
    "version": 3
   },
   "file_extension": ".py",
   "mimetype": "text/x-python",
   "name": "python",
   "nbconvert_exporter": "python",
   "pygments_lexer": "ipython3",
   "version": "3.9.7"
  }
 },
 "nbformat": 4,
 "nbformat_minor": 2
}
